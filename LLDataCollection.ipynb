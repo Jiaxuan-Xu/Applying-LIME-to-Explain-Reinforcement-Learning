{
 "cells": [
  {
   "cell_type": "code",
   "execution_count": 1,
   "id": "c3155ce4",
   "metadata": {},
   "outputs": [
    {
     "name": "stderr",
     "output_type": "stream",
     "text": [
      "F:\\anaconda3\\envs\\ds-project\\lib\\site-packages\\tqdm\\auto.py:22: TqdmWarning: IProgress not found. Please update jupyter and ipywidgets. See https://ipywidgets.readthedocs.io/en/stable/user_install.html\n",
      "  from .autonotebook import tqdm as notebook_tqdm\n"
     ]
    }
   ],
   "source": [
    "import gym\n",
    "import numpy as np\n",
    "import pandas as pd\n",
    "from stable_baselines3 import PPO\n",
    "from stable_baselines3.common.vec_env.dummy_vec_env import DummyVecEnv"
   ]
  },
  {
   "cell_type": "code",
   "execution_count": 2,
   "id": "423adca2",
   "metadata": {},
   "outputs": [],
   "source": [
    "env_name = \"LunarLander-v2\"\n",
    "env = gym.make(env_name)\n",
    "env = DummyVecEnv([lambda : env])"
   ]
  },
  {
   "cell_type": "code",
   "execution_count": 3,
   "id": "1879831a",
   "metadata": {},
   "outputs": [
    {
     "name": "stdout",
     "output_type": "stream",
     "text": [
      "Using cpu device\n"
     ]
    }
   ],
   "source": [
    "model = PPO(\n",
    "    \"MlpPolicy\", \n",
    "    env=env, \n",
    "    n_steps=1024, \n",
    "    batch_size=64, \n",
    "    gae_lambda=0.98, \n",
    "    gamma=0.999, \n",
    "    n_epochs=4, \n",
    "    ent_coef=0.01, \n",
    "    verbose=1\n",
    ")"
   ]
  },
  {
   "cell_type": "code",
   "execution_count": 4,
   "id": "18c5b029",
   "metadata": {},
   "outputs": [],
   "source": [
    "env = gym.make(env_name)\n",
    "model = PPO.load(\"./model/LunarLander.pkl\")\n",
    "\n",
    "state = env.reset()\n",
    "done = False \n",
    "score = 0"
   ]
  },
  {
   "cell_type": "code",
   "execution_count": 5,
   "id": "5501b7d8",
   "metadata": {},
   "outputs": [],
   "source": [
    "# data = {\n",
    "#     'CX': [],  # coordinates of the lander in x\n",
    "#     'CY': [],  # coordinates of the lander in y\n",
    "#     'LVX': [],  # linear velocities in x\n",
    "#     'LVY': [],  # linear velocities in y\n",
    "#     'ANG': [],  # angle\n",
    "#     'AV': [],  # angular velocity\n",
    "#     'LG': [],  # left leg contact with the ground\n",
    "#     'RG': [],  # right leg contact with the ground\n",
    "#     'ACT': []  # Action: 0: do nothing, 1: fire left orientation engine, 2: fire main engine, 3: fire right orientation engine\n",
    "# }"
   ]
  },
  {
   "cell_type": "code",
   "execution_count": 6,
   "id": "a4b420b1",
   "metadata": {},
   "outputs": [],
   "source": [
    "# while not done:\n",
    "#     data['CX'].append(state[0])\n",
    "#     data['CY'].append(state[1])\n",
    "#     data['LVX'].append(state[2])\n",
    "#     data['LVY'].append(state[3])\n",
    "#     data['ANG'].append(state[4])\n",
    "#     data['AV'].append(state[5])\n",
    "#     data['LG'].append(state[6])\n",
    "#     data['RG'].append(state[7])\n",
    "#     action, _ = model.predict(observation=state)\n",
    "#     data['ACT'].append(action)\n",
    "#     state, reward, done, info = env.step(action=action)\n",
    "#     score += reward\n",
    "#     # env.render()\n",
    "# env.close()\n",
    "# score"
   ]
  },
  {
   "cell_type": "code",
   "execution_count": 7,
   "id": "5bc0f41c",
   "metadata": {},
   "outputs": [],
   "source": [
    "# df = pd.DataFrame(data)\n",
    "# df.to_csv('LunarLanderData.csv')\n",
    "# df.info()"
   ]
  },
  {
   "cell_type": "code",
   "execution_count": 8,
   "id": "df56365b",
   "metadata": {},
   "outputs": [
    {
     "name": "stdout",
     "output_type": "stream",
     "text": [
      "--------------\n",
      "time: 1\n",
      "score: 257.29992465917223\n",
      "--------------\n",
      "time: 2\n",
      "score: 289.81418610527794\n",
      "--------------\n",
      "time: 3\n",
      "score: 253.98222808008143\n",
      "--------------\n",
      "time: 4\n",
      "score: 297.85876192843523\n",
      "--------------\n",
      "time: 5\n",
      "score: 261.5338173791657\n",
      "--------------\n",
      "time: 6\n",
      "score: 276.26324290021034\n"
     ]
    }
   ],
   "source": [
    "times = 0\n",
    "scores = []\n",
    "while times <= 5:\n",
    "    state = env.reset()\n",
    "    done = False \n",
    "    score = 0\n",
    "    data = {\n",
    "        'CX': [],  # coordinates of the lander in x\n",
    "        'CY': [],  # coordinates of the lander in y\n",
    "        'LVX': [],  # linear velocities in x\n",
    "        'LVY': [],  # linear velocities in y\n",
    "        'ANG': [],  # angle\n",
    "        'AV': [],  # angular velocity\n",
    "        'LG': [],  # left leg contact with the ground\n",
    "        'RG': [],  # right leg contact with the ground\n",
    "        'ACT': []  # Action: 0: do nothing, 1: fire left orientation engine, 2: fire main engine, 3: fire right orientation engine\n",
    "    }\n",
    "    while not done:\n",
    "        data['CX'].append(state[0])\n",
    "        data['CY'].append(state[1])\n",
    "        data['LVX'].append(state[2])\n",
    "        data['LVY'].append(state[3])\n",
    "        data['ANG'].append(state[4])\n",
    "        data['AV'].append(state[5])\n",
    "        data['LG'].append(state[6])\n",
    "        data['RG'].append(state[7])\n",
    "        action, _ = model.predict(observation=state)\n",
    "        data['ACT'].append(action)\n",
    "        state, reward, done, info = env.step(action=action)\n",
    "        score += reward\n",
    "        # env.render()\n",
    "    env.close()\n",
    "    if score >= 250:\n",
    "        times += 1\n",
    "        scores.append(score)\n",
    "        df = pd.DataFrame(data)\n",
    "        if times == 1:\n",
    "            df.to_csv('LunarLanderData.csv', index=False)\n",
    "        else:\n",
    "            df.to_csv('LunarLanderData.csv', mode='a', index=False, header=None)\n",
    "        print('--------------')\n",
    "        print('time:', times)\n",
    "        print('score:', score)"
   ]
  },
  {
   "cell_type": "code",
   "execution_count": 9,
   "id": "76957bbf",
   "metadata": {},
   "outputs": [
    {
     "name": "stdout",
     "output_type": "stream",
     "text": [
      "272.79202684205717\n",
      "16.58666881673754\n"
     ]
    }
   ],
   "source": [
    "print(np.mean(scores))\n",
    "print(np.std(scores))"
   ]
  },
  {
   "cell_type": "code",
   "execution_count": 10,
   "id": "0918cf65",
   "metadata": {},
   "outputs": [
    {
     "name": "stdout",
     "output_type": "stream",
     "text": [
      "<class 'pandas.core.frame.DataFrame'>\n",
      "RangeIndex: 1803 entries, 0 to 1802\n",
      "Data columns (total 9 columns):\n",
      " #   Column  Non-Null Count  Dtype  \n",
      "---  ------  --------------  -----  \n",
      " 0   CX      1803 non-null   float64\n",
      " 1   CY      1803 non-null   float64\n",
      " 2   LVX     1803 non-null   float64\n",
      " 3   LVY     1803 non-null   float64\n",
      " 4   ANG     1803 non-null   float64\n",
      " 5   AV      1803 non-null   float64\n",
      " 6   LG      1803 non-null   float64\n",
      " 7   RG      1803 non-null   float64\n",
      " 8   ACT     1803 non-null   int64  \n",
      "dtypes: float64(8), int64(1)\n",
      "memory usage: 126.9 KB\n"
     ]
    }
   ],
   "source": [
    "df = pd.read_csv('LunarLanderData.csv')\n",
    "df.info()"
   ]
  }
 ],
 "metadata": {
  "kernelspec": {
   "display_name": "Python 3 (ipykernel)",
   "language": "python",
   "name": "python3"
  },
  "language_info": {
   "codemirror_mode": {
    "name": "ipython",
    "version": 3
   },
   "file_extension": ".py",
   "mimetype": "text/x-python",
   "name": "python",
   "nbconvert_exporter": "python",
   "pygments_lexer": "ipython3",
   "version": "3.7.13"
  }
 },
 "nbformat": 4,
 "nbformat_minor": 5
}
