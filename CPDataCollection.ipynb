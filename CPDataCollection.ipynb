{
 "cells": [
  {
   "cell_type": "code",
   "execution_count": 1,
   "id": "98e2a5df",
   "metadata": {},
   "outputs": [
    {
     "name": "stderr",
     "output_type": "stream",
     "text": [
      "F:\\anaconda3\\envs\\ds-project\\lib\\site-packages\\tqdm\\auto.py:22: TqdmWarning: IProgress not found. Please update jupyter and ipywidgets. See https://ipywidgets.readthedocs.io/en/stable/user_install.html\n",
      "  from .autonotebook import tqdm as notebook_tqdm\n"
     ]
    }
   ],
   "source": [
    "import gym\n",
    "import pandas as pd\n",
    "from stable_baselines3 import A2C, DQN\n",
    "from stable_baselines3.common.env_util import make_vec_env\n",
    "from stable_baselines3.common.vec_env.dummy_vec_env import DummyVecEnv"
   ]
  },
  {
   "cell_type": "code",
   "execution_count": 2,
   "id": "c32e1628",
   "metadata": {},
   "outputs": [],
   "source": [
    "env_name = \"CartPole-v1\"\n",
    "env = make_vec_env(env_name, n_envs=8)"
   ]
  },
  {
   "cell_type": "code",
   "execution_count": 3,
   "id": "917c7548",
   "metadata": {},
   "outputs": [
    {
     "name": "stdout",
     "output_type": "stream",
     "text": [
      "Using cpu device\n"
     ]
    }
   ],
   "source": [
    "model = A2C(\n",
    "    \"MlpPolicy\", \n",
    "    env = env, \n",
    "    ent_coef = 0.0,\n",
    "    verbose = 1\n",
    ")"
   ]
  },
  {
   "cell_type": "code",
   "execution_count": 4,
   "id": "87d59e68",
   "metadata": {},
   "outputs": [],
   "source": [
    "env = gym.make(env_name)\n",
    "model = A2C.load(\"./model/CartPole.pkl\")\n",
    "\n",
    "state = env.reset()\n",
    "done = False \n",
    "score = 0"
   ]
  },
  {
   "cell_type": "code",
   "execution_count": 5,
   "id": "6e9d31c2",
   "metadata": {},
   "outputs": [],
   "source": [
    "data = {\n",
    "    'CP': [],  # Cart Position\n",
    "    'CV': [],  # Cart Velocity\n",
    "    'PA': [],  # Pole Angle\n",
    "    'PAV': [],  # Pole Angular Velocity\n",
    "    'ACT': []  # Action\n",
    "}"
   ]
  },
  {
   "cell_type": "code",
   "execution_count": 6,
   "id": "3bf50f6e",
   "metadata": {},
   "outputs": [
    {
     "data": {
      "text/plain": [
       "500.0"
      ]
     },
     "execution_count": 6,
     "metadata": {},
     "output_type": "execute_result"
    }
   ],
   "source": [
    "while not done:\n",
    "    data['CP'].append(state[0])\n",
    "    data['CV'].append(state[1])\n",
    "    data['PA'].append(state[2])\n",
    "    data['PAV'].append(state[3])\n",
    "    action, _ = model.predict(observation=state)\n",
    "    data['ACT'].append(action)\n",
    "    state, reward, done, info = env.step(action=action)\n",
    "    score += reward\n",
    "    # env.render()\n",
    "env.close()\n",
    "score"
   ]
  },
  {
   "cell_type": "code",
   "execution_count": 7,
   "id": "42a5c811",
   "metadata": {},
   "outputs": [
    {
     "name": "stdout",
     "output_type": "stream",
     "text": [
      "<class 'pandas.core.frame.DataFrame'>\n",
      "RangeIndex: 500 entries, 0 to 499\n",
      "Data columns (total 5 columns):\n",
      " #   Column  Non-Null Count  Dtype  \n",
      "---  ------  --------------  -----  \n",
      " 0   CP      500 non-null    float32\n",
      " 1   CV      500 non-null    float32\n",
      " 2   PA      500 non-null    float32\n",
      " 3   PAV     500 non-null    float32\n",
      " 4   ACT     500 non-null    int64  \n",
      "dtypes: float32(4), int64(1)\n",
      "memory usage: 11.8 KB\n"
     ]
    }
   ],
   "source": [
    "df = pd.DataFrame(data)\n",
    "df.to_csv('CartPoleData.csv')\n",
    "df.info()"
   ]
  }
 ],
 "metadata": {
  "kernelspec": {
   "display_name": "Python 3 (ipykernel)",
   "language": "python",
   "name": "python3"
  },
  "language_info": {
   "codemirror_mode": {
    "name": "ipython",
    "version": 3
   },
   "file_extension": ".py",
   "mimetype": "text/x-python",
   "name": "python",
   "nbconvert_exporter": "python",
   "pygments_lexer": "ipython3",
   "version": "3.7.13"
  }
 },
 "nbformat": 4,
 "nbformat_minor": 5
}
